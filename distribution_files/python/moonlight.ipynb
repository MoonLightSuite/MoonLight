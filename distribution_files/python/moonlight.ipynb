{
 "cells": [
  {
   "cell_type": "code",
   "execution_count": 50,
   "metadata": {},
   "outputs": [],
   "source": [
    "# NON TOCCARE!!!!\n",
    "\n",
    "# # Import module\n",
    "# # https://blog.notmyidea.org/using-jpype-to-bridge-python-and-java.html\n",
    "\n",
    "# import jpype\n",
    "\n",
    "# # Enable Java imports\n",
    "# import jpype.imports\n",
    "\n",
    "# # Pull in types\n",
    "# from jpype.types import *\n",
    "\n",
    "# # Launch the JVM\n",
    "# jpype.startJVM(jpype.getDefaultJVMPath(),\"-ea\", \"-Djava.class.path=jar/moonlight.jar\")\n",
    "\n",
    "# from java.lang import System\n",
    "# print(System.getProperty(\"java.class.path\"))\n",
    "\n",
    "# script = \"\"\"monitor BooleanMonitorScript {\n",
    "# signal { real x; real y;}\n",
    "# domain boolean;\n",
    "# formula globally [0, 0.2]  #[ x > y ]#;\n",
    "# }\n",
    "# monitor QuantitativeMonitorScript{\n",
    "# signal { real x; real y;}\n",
    "# domain minmax;\n",
    "# formula globally [0, 0.2] #[ x - y ]#;\n",
    "# }\"\"\"\n",
    "# a = jpype.JPackage(\"eu\").quanticol.moonlight.xtext.ScriptLoader()\n",
    "# b = a.compileScript(script)\n",
    "# c = b.selectTemporalComponent(\"QuantitativeMonitorScript\")\n",
    "# time = JArray(JDouble)([1,2])\n",
    "# space = JArray(JDouble,2)([[1,2],[1,2]])\n",
    "# aa = c.monitorToDoubleArray(time,space,None)\n",
    "# #s = a.getClassName(JString(\"a\"))\n",
    "# aa"
   ]
  },
  {
   "cell_type": "code",
   "execution_count": 51,
   "metadata": {},
   "outputs": [
    {
     "ename": "OSError",
     "evalue": "JVM is already started",
     "output_type": "error",
     "traceback": [
      "\u001b[0;31m---------------------------------------------------------------------------\u001b[0m",
      "\u001b[0;31mOSError\u001b[0m                                   Traceback (most recent call last)",
      "\u001b[0;32m<ipython-input-51-d1876e768403>\u001b[0m in \u001b[0;36m<module>\u001b[0;34m\u001b[0m\n\u001b[1;32m      2\u001b[0m \u001b[0;32mfrom\u001b[0m \u001b[0mjpype\u001b[0m \u001b[0;32mimport\u001b[0m \u001b[0mJArray\u001b[0m\u001b[0;34m,\u001b[0m\u001b[0mJDouble\u001b[0m\u001b[0;34m\u001b[0m\u001b[0;34m\u001b[0m\u001b[0m\n\u001b[1;32m      3\u001b[0m \u001b[0;32mimport\u001b[0m \u001b[0mnumpy\u001b[0m \u001b[0;32mas\u001b[0m \u001b[0mnp\u001b[0m\u001b[0;34m\u001b[0m\u001b[0;34m\u001b[0m\u001b[0m\n\u001b[0;32m----> 4\u001b[0;31m \u001b[0mjpype\u001b[0m\u001b[0;34m.\u001b[0m\u001b[0mstartJVM\u001b[0m\u001b[0;34m(\u001b[0m\u001b[0mjpype\u001b[0m\u001b[0;34m.\u001b[0m\u001b[0mgetDefaultJVMPath\u001b[0m\u001b[0;34m(\u001b[0m\u001b[0;34m)\u001b[0m\u001b[0;34m,\u001b[0m\u001b[0;34m\"-ea\"\u001b[0m\u001b[0;34m,\u001b[0m \u001b[0;34m\"-Djava.class.path={}\"\u001b[0m\u001b[0;34m.\u001b[0m\u001b[0mformat\u001b[0m\u001b[0;34m(\u001b[0m\u001b[0;34m\"jar/moonlight.jar\"\u001b[0m\u001b[0;34m)\u001b[0m\u001b[0;34m)\u001b[0m\u001b[0;34m\u001b[0m\u001b[0;34m\u001b[0m\u001b[0m\n\u001b[0m\u001b[1;32m      5\u001b[0m \u001b[0;34m\u001b[0m\u001b[0m\n\u001b[1;32m      6\u001b[0m \u001b[0;34m\u001b[0m\u001b[0m\n",
      "\u001b[0;32m~/miniconda3/lib/python3.6/site-packages/jpype/_core.py\u001b[0m in \u001b[0;36mstartJVM\u001b[0;34m(*args, **kwargs)\u001b[0m\n\u001b[1;32m    160\u001b[0m      \"\"\"\n\u001b[1;32m    161\u001b[0m     \u001b[0;32mif\u001b[0m \u001b[0m_jpype\u001b[0m\u001b[0;34m.\u001b[0m\u001b[0misStarted\u001b[0m\u001b[0;34m(\u001b[0m\u001b[0;34m)\u001b[0m\u001b[0;34m:\u001b[0m\u001b[0;34m\u001b[0m\u001b[0;34m\u001b[0m\u001b[0m\n\u001b[0;32m--> 162\u001b[0;31m         \u001b[0;32mraise\u001b[0m \u001b[0mOSError\u001b[0m\u001b[0;34m(\u001b[0m\u001b[0;34m'JVM is already started'\u001b[0m\u001b[0;34m)\u001b[0m\u001b[0;34m\u001b[0m\u001b[0;34m\u001b[0m\u001b[0m\n\u001b[0m\u001b[1;32m    163\u001b[0m     \u001b[0;32mglobal\u001b[0m \u001b[0m_JVM_started\u001b[0m\u001b[0;34m\u001b[0m\u001b[0;34m\u001b[0m\u001b[0m\n\u001b[1;32m    164\u001b[0m     \u001b[0;32mif\u001b[0m \u001b[0m_JVM_started\u001b[0m\u001b[0;34m:\u001b[0m\u001b[0;34m\u001b[0m\u001b[0;34m\u001b[0m\u001b[0m\n",
      "\u001b[0;31mOSError\u001b[0m: JVM is already started"
     ]
    }
   ],
   "source": [
    "import jpype\n",
    "from jpype import JArray,JDouble\n",
    "import numpy as np\n",
    "jpype.startJVM(jpype.getDefaultJVMPath(),\"-ea\", \"-Djava.class.path={}\".format(\"jar/moonlight.jar\"))\n",
    "\n",
    "\n",
    "class Moonlight:\n",
    "    \n",
    "#     def __init__(self, jar_location=\"jar/moonlight.jar\"):\n",
    "#         self.jar_location = jar_location\n",
    "        \n",
    "#     def startJVM(self):\n",
    "#         jpype.startJVM(jpype.getDefaultJVMPath(),\"-ea\", \"-Djava.class.path={}\".format(self.jar_location))\n",
    "        \n",
    "    def setScript(self, script):\n",
    "        script_loader = jpype.JPackage(\"eu\").quanticol.moonlight.xtext.ScriptLoader()\n",
    "        self.compiled_script = script_loader.compileScript(script)\n",
    "    \n",
    "    def get_monitor(self, monitor_name):\n",
    "        return  self.compiled_script.selectTemporalComponent(monitor_name)\n",
    "\n",
    "class Monitor:\n",
    "    \n",
    "     def __init__(self,moonlight_monitor):\n",
    "            self.monitor = moonlight_monitor\n",
    "     \n",
    "     def monitor(self, time, space, parameters=None):\n",
    "            monitor = self.monitor\n",
    "            return monitor.monitorToArray(time,space,parameters)\n",
    "        \n",
    "    \n",
    "    "
   ]
  },
  {
   "cell_type": "code",
   "execution_count": 52,
   "metadata": {},
   "outputs": [
    {
     "data": {
      "text/plain": [
       "array([[ 1., -1.]])"
      ]
     },
     "execution_count": 52,
     "metadata": {},
     "output_type": "execute_result"
    }
   ],
   "source": [
    "script = \"\"\"monitor BooleanMonitorScript {\n",
    "signal { real x; real y;}\n",
    "domain boolean;\n",
    "formula globally [0, 0.2]  #[ x > y ]#;\n",
    "}\n",
    "monitor QuantitativeMonitorScript{\n",
    "signal { real x; real y;}\n",
    "domain minmax;\n",
    "formula globally [0, 0.2] #[ x - y ]#;\n",
    "}\"\"\"\n",
    "\n",
    "moonlight = Moonlight()\n",
    "#moonlight.startJVM()\n",
    "moonlight.setScript(script)\n",
    "monitor = moonlight.get_monitor(\"QuantitativeMonitorScript\")\n",
    "\n",
    "time = JArray(JDouble)([1,2])\n",
    "space = JArray(JDouble,2)([[1,2],[1,2]])\n",
    "result = np.array(monitor.monitorToArray(time,space))\n",
    "result"
   ]
  }
 ],
 "metadata": {
  "kernelspec": {
   "display_name": "Python 3",
   "language": "python",
   "name": "python3"
  },
  "language_info": {
   "codemirror_mode": {
    "name": "ipython",
    "version": 3
   },
   "file_extension": ".py",
   "mimetype": "text/x-python",
   "name": "python",
   "nbconvert_exporter": "python",
   "pygments_lexer": "ipython3",
   "version": "3.6.9"
  }
 },
 "nbformat": 4,
 "nbformat_minor": 4
}
