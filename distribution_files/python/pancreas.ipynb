{
 "cells": [
  {
   "cell_type": "code",
   "execution_count": 1,
   "metadata": {},
   "outputs": [],
   "source": [
    "import numpy as np\n",
    "from pyDOE import lhs\n",
    "#from simulation1Day import simulation, hypoGlicemia, hyperGlicemia, pidC1\n",
    "from scipy.integrate import odeint\n",
    "#from hovorka import modelPID"
   ]
  },
  {
   "cell_type": "code",
   "execution_count": 2,
   "metadata": {},
   "outputs": [],
   "source": [
    "def modelPID(x, t, Kp, Ki, Kd):\n",
    "    w = 100\n",
    "    ka1 = 0.006  #\n",
    "    ka2 = 0.06  #\n",
    "    ka3 = 0.03  #\n",
    "    kb1 = 0.0034  #\n",
    "    kb2 = 0.056  #\n",
    "    kb3 = 0.024  #\n",
    "    u_b = 0.0555\n",
    "    tmaxI = 55  #\n",
    "    VI = 0.12 * w  #\n",
    "    ke = 0.138  #\n",
    "    k12 = 0.066  #\n",
    "    VG = 0.16 * w  #\n",
    "    # G = Q1 / VG\n",
    "    F01 = 0.0097 * w  #\n",
    "    FR = 0\n",
    "    EGP0 = 0.0161 * w  #\n",
    "    AG = 0.8  #\n",
    "    Gmolar = 180.1559\n",
    "    tmaxG = 40  #\n",
    "    sp = 110 * VG / 18\n",
    "\n",
    "    Q1, Q2, S1, S2, I, x1, x2, x3, tau, Dg, Ie, u = x\n",
    "    dQ1 = - F01 - x1 * Q1 + k12 * Q2 - FR + EGP0 * (1 - x3) + (x[9] * AG * 1000 / Gmolar) * tau * np.exp(\n",
    "        -tau / tmaxG) / (tmaxG ** 2)\n",
    "    dQ2 = x1 * Q1 - (k12 + x2) * Q2\n",
    "    dIe = sp - Q1\n",
    "    de = - dQ1\n",
    "    uNew = max(Ki * Ie + Kp * dIe + Kd * de, 0)\n",
    "    dS1 = uNew + u_b - S1 / tmaxI\n",
    "    dS2 = (S1 - S2) / tmaxI\n",
    "    dI = S2 / (tmaxI * VI) - ke * I\n",
    "    dx1 = - ka1 * x1 + kb1 * I\n",
    "    dx2 = - ka2 * x2 + kb2 * I\n",
    "    dx3 = - ka3 * x3 + kb3 * I\n",
    "    dtau = 1\n",
    "    dDg = 0\n",
    "    dxdt = [dQ1, dQ2, dS1, dS2, dI, dx1, dx2, dx3, dtau, dDg, dIe, uNew - u]\n",
    "\n",
    "    return dxdt"
   ]
  },
  {
   "cell_type": "code",
   "execution_count": 3,
   "metadata": {},
   "outputs": [],
   "source": [
    "def simulation(timeOfMeals, dGs, model):\n",
    "    tstep = 1.0\n",
    "    ttot = [0]\n",
    "    ytot = [97.77, 19.08024, 3.0525, 3.0525, 0.033551, 0.01899, 0.03128, 0.02681, 0.0, 0, 0, 0]\n",
    "    x0 = ytot\n",
    "    for i in range(len(timeOfMeals)):\n",
    "        x0[8] = 0\n",
    "        x0[9] = dGs[i]\n",
    "        time = np.arange(tstep, timeOfMeals[i], tstep)\n",
    "        #t = timeOfMeals[i]\n",
    "        y = odeint(model, x0, time)\n",
    "        x0 = y[-1, :]\n",
    "        ytot = np.vstack([ytot, y])\n",
    "        ttot = np.hstack([ttot, time + ttot[-1]])\n",
    "    return ttot, ytot\n",
    "\n",
    "\n",
    "Kd = [0, -0.0602, -0.0573, -0.06002, -0.0624]\n",
    "Ki = [0, -3.53e-07, -3e-07, -1.17e-07, -7.55e-07]\n",
    "Kp = [0, -6.17e-04, -6.39e-04, -6.76e-04, -5.42e-04]\n",
    "\n",
    "pidC1 = lambda x, t: modelPID(x, t, Kp[1], Ki[1], Kd[1])\n",
    "pidC2 = lambda x, t: modelPID(x, t, Kp[2], Ki[2], Kd[2])\n",
    "pidC3 = lambda x, t: modelPID(x, t, Kp[3], Ki[3], Kd[3])\n",
    "pidC4 = lambda x, t: modelPID(x, t, Kp[4], Ki[4], Kd[4])\n",
    "\n",
    "pidC1Noise = lambda x, t: modelPID(x, t, Kp[1], Ki[1], Kd[1])\n",
    "pidC2Noise = lambda x, t: modelPID(x, t, Kp[2], Ki[2], Kd[2])\n",
    "pidC3Noise= lambda x, t: modelPID(x, t, Kp[3], Ki[3], Kd[3])\n",
    "pidC4Noise= lambda x, t: modelPID(x, t, Kp[4], Ki[4], Kd[4])\n",
    "\n",
    "\n",
    "# pid5 = lambda x, t: modelPID(x, t, -0.1, 0, -0.1)\n",
    "# pid6 = lambda x, t: modelPID(x, t, -5.12720526e-04, -1.16330231e-06, -6.54656447e-02)\n",
    "# pid7 = lambda x, t: modelPID(x, t, -6.16146031e-04, -3.90083101e-07, -6.75289141e-02)"
   ]
  },
  {
   "cell_type": "code",
   "execution_count": 4,
   "metadata": {},
   "outputs": [],
   "source": [
    "t_meal1 = np.random.normal(300, 60)\n",
    "t_meal2 = np.random.normal(300, 60)\n",
    "t_meal3 = 1440 - t_meal1 - t_meal2\n",
    "dg1 = np.random.normal(40, 10)\n",
    "dg2 = np.random.normal(90, 10)\n",
    "dg3 = np.random.normal(60, 10)\n",
    "\n",
    "t, y = simulation([t_meal1, t_meal2, t_meal3], [dg1, dg2, dg3], pidC3)\n",
    "y = y[:,0];"
   ]
  },
  {
   "cell_type": "code",
   "execution_count": 6,
   "metadata": {},
   "outputs": [
    {
     "name": "stderr",
     "output_type": "stream",
     "text": [
      "No handles with labels found to put in legend.\n"
     ]
    },
    {
     "data": {
      "image/png": "[encoded data removed]",
      "text/plain": [
       "<Figure size 432x288 with 1 Axes>"
      ]
     },
     "metadata": {
      "needs_background": "light"
     },
     "output_type": "display_data"
    }
   ],
   "source": [
    "# plot results\n",
    "\n",
    "import matplotlib.pyplot as plt\n",
    "\n",
    "thresholdUp = 180;\n",
    "thresholdDown = 70;\n",
    "\n",
    "plt.fill_between([t[0],t[-1]], [4,4],[max(y),max(y)],alpha=0.5)\n",
    "plt.plot(t,y,'r-',linewidth=2)\n",
    "plt.axhline(y=thresholdDown, color='k', linestyle='-')\n",
    "plt.xlabel('time')\n",
    "plt.ylabel('y(t)')\n",
    "plt.legend()\n",
    "plt.xlabel('Time (min)')\n",
    "plt.ylabel('BG (mmol/L)')\n",
    "plt.show()"
   ]
  },
  {
   "cell_type": "code",
   "execution_count": 7,
   "metadata": {},
   "outputs": [],
   "source": [
    "import os\n",
    "#os.environ['JAVA_HOME'] = \"/home/ssilvetti/Java/jdk1.8.0_172/\"\n",
    "os.environ['JAVA_HOME'] = \"/Library/Java/JavaVirtualMachines/jdk1.8.0_231.jdk/Contents/Home\"\n",
    "from moonlight import *\n",
    "import numpy as np"
   ]
  },
  {
   "cell_type": "code",
   "execution_count": 8,
   "metadata": {},
   "outputs": [
    {
     "ename": "JavaException",
     "evalue": "JVM exception occurred: 0",
     "output_type": "error",
     "traceback": [
      "\u001b[0;31m---------------------------------------------------------------------------\u001b[0m",
      "\u001b[0;31mJavaException\u001b[0m                             Traceback (most recent call last)",
      "\u001b[0;32m<ipython-input-8-f24e3c148827>\u001b[0m in \u001b[0;36m<module>\u001b[0;34m\u001b[0m\n\u001b[1;32m      6\u001b[0m \"\"\"\n\u001b[1;32m      7\u001b[0m \u001b[0mmoonlight\u001b[0m \u001b[0;34m=\u001b[0m \u001b[0mMoonlight\u001b[0m\u001b[0;34m(\u001b[0m\u001b[0;34m)\u001b[0m\u001b[0;34m\u001b[0m\u001b[0;34m\u001b[0m\u001b[0m\n\u001b[0;32m----> 8\u001b[0;31m \u001b[0mmoonlight\u001b[0m\u001b[0;34m.\u001b[0m\u001b[0mset_script\u001b[0m\u001b[0;34m(\u001b[0m\u001b[0mscript\u001b[0m\u001b[0;34m)\u001b[0m\u001b[0;34m\u001b[0m\u001b[0;34m\u001b[0m\u001b[0m\n\u001b[0m",
      "\u001b[0;32m~/git/MoonLight/distribution_files/python/moonlight.py\u001b[0m in \u001b[0;36mset_script\u001b[0;34m(self, script)\u001b[0m\n\u001b[1;32m      7\u001b[0m     \u001b[0;32mdef\u001b[0m \u001b[0mset_script\u001b[0m\u001b[0;34m(\u001b[0m\u001b[0mself\u001b[0m\u001b[0;34m,\u001b[0m \u001b[0mscript\u001b[0m\u001b[0;34m)\u001b[0m\u001b[0;34m:\u001b[0m\u001b[0;34m\u001b[0m\u001b[0;34m\u001b[0m\u001b[0m\n\u001b[1;32m      8\u001b[0m         \u001b[0mscript_loader\u001b[0m \u001b[0;34m=\u001b[0m \u001b[0mautoclass\u001b[0m\u001b[0;34m(\u001b[0m\u001b[0;34m'eu.quanticol.moonlight.xtext.ScriptLoader'\u001b[0m\u001b[0;34m)\u001b[0m\u001b[0;34m(\u001b[0m\u001b[0;34m)\u001b[0m\u001b[0;34m\u001b[0m\u001b[0;34m\u001b[0m\u001b[0m\n\u001b[0;32m----> 9\u001b[0;31m         \u001b[0mself\u001b[0m\u001b[0;34m.\u001b[0m\u001b[0mcompiled_script\u001b[0m \u001b[0;34m=\u001b[0m \u001b[0mscript_loader\u001b[0m\u001b[0;34m.\u001b[0m\u001b[0mcompileScript\u001b[0m\u001b[0;34m(\u001b[0m\u001b[0mscript\u001b[0m\u001b[0;34m)\u001b[0m\u001b[0;34m\u001b[0m\u001b[0;34m\u001b[0m\u001b[0m\n\u001b[0m\u001b[1;32m     10\u001b[0m \u001b[0;34m\u001b[0m\u001b[0m\n\u001b[1;32m     11\u001b[0m     \u001b[0;32mdef\u001b[0m \u001b[0mget_monitor\u001b[0m\u001b[0;34m(\u001b[0m\u001b[0mself\u001b[0m\u001b[0;34m,\u001b[0m\u001b[0mmonitor_name\u001b[0m\u001b[0;34m)\u001b[0m\u001b[0;34m:\u001b[0m\u001b[0;34m\u001b[0m\u001b[0;34m\u001b[0m\u001b[0m\n",
      "\u001b[0;32mjnius/jnius_export_class.pxi\u001b[0m in \u001b[0;36mjnius.JavaMultipleMethod.__call__\u001b[0;34m()\u001b[0m\n",
      "\u001b[0;32mjnius/jnius_export_class.pxi\u001b[0m in \u001b[0;36mjnius.JavaMethod.__call__\u001b[0;34m()\u001b[0m\n",
      "\u001b[0;32mjnius/jnius_export_class.pxi\u001b[0m in \u001b[0;36mjnius.JavaMethod.call_method\u001b[0;34m()\u001b[0m\n",
      "\u001b[0;32mjnius/jnius_utils.pxi\u001b[0m in \u001b[0;36mjnius.check_exception\u001b[0;34m()\u001b[0m\n",
      "\u001b[0;31mJavaException\u001b[0m: JVM exception occurred: 0"
     ]
    }
   ],
   "source": [
    "script = \"\"\"\n",
    "signal {real y;}\n",
    "domain minmax; \n",
    "formula hypoGlicemia = globally [0.0, 1400]  (y > 70);\n",
    "formula hyperGlicemia = globally [0.0, 1400]  (y < 180);\n",
    "\"\"\"\n",
    "moonlight = Moonlight()\n",
    "moonlight.set_script(script)"
   ]
  },
  {
   "cell_type": "code",
   "execution_count": 78,
   "metadata": {},
   "outputs": [
    {
     "name": "stdout",
     "output_type": "stream",
     "text": [
      "[[0.0, -13.076439323674954], [38.0, -13.076439323674954]]\n"
     ]
    }
   ],
   "source": [
    "monitor = moonlight.get_monitor(\"hypoGlicemia\")\n",
    "y_signal = [[yy] for yy in y]\n",
    "result = monitor.monitor(list(t),y_signal)\n",
    "print(result)"
   ]
  },
  {
   "cell_type": "code",
   "execution_count": 83,
   "metadata": {},
   "outputs": [
    {
     "data": {
      "text/plain": [
       "1438.0"
      ]
     },
     "execution_count": 83,
     "metadata": {},
     "output_type": "execute_result"
    }
   ],
   "source": [
    "t[-1]"
   ]
  },
  {
   "cell_type": "code",
   "execution_count": null,
   "metadata": {},
   "outputs": [],
   "source": []
  }
 ],
 "metadata": {
  "kernelspec": {
   "display_name": "Python 3",
   "language": "python",
   "name": "python3"
  },
  "language_info": {
   "codemirror_mode": {
    "name": "ipython",
    "version": 3
   },
   "file_extension": ".py",
   "mimetype": "text/x-python",
   "name": "python",
   "nbconvert_exporter": "python",
   "pygments_lexer": "ipython3",
   "version": "3.7.4"
  }
 },
 "nbformat": 4,
 "nbformat_minor": 4
}
