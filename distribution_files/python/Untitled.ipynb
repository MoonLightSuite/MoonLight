{
 "cells": [
  {
   "cell_type": "code",
   "execution_count": 9,
   "metadata": {},
   "outputs": [
    {
     "ename": "OSError",
     "evalue": "JVM is already started",
     "output_type": "error",
     "traceback": [
      "\u001b[0;31m---------------------------------------------------------------------------\u001b[0m",
      "\u001b[0;31mOSError\u001b[0m                                   Traceback (most recent call last)",
      "\u001b[0;32m<ipython-input-9-0d3658b662ba>\u001b[0m in \u001b[0;36m<module>\u001b[0;34m\u001b[0m\n\u001b[1;32m     11\u001b[0m \u001b[0;34m\u001b[0m\u001b[0m\n\u001b[1;32m     12\u001b[0m \u001b[0;31m# Launch the JVM\u001b[0m\u001b[0;34m\u001b[0m\u001b[0;34m\u001b[0m\u001b[0;34m\u001b[0m\u001b[0m\n\u001b[0;32m---> 13\u001b[0;31m \u001b[0mjpype\u001b[0m\u001b[0;34m.\u001b[0m\u001b[0mstartJVM\u001b[0m\u001b[0;34m(\u001b[0m\u001b[0mjpype\u001b[0m\u001b[0;34m.\u001b[0m\u001b[0mgetDefaultJVMPath\u001b[0m\u001b[0;34m(\u001b[0m\u001b[0;34m)\u001b[0m\u001b[0;34m,\u001b[0m\u001b[0;34m\"-ea\"\u001b[0m\u001b[0;34m,\u001b[0m \u001b[0;34m\"-Djava.class.path=/home/ssilvetti/git/MoonLight/output/moonlight.jar\"\u001b[0m\u001b[0;34m)\u001b[0m\u001b[0;34m\u001b[0m\u001b[0;34m\u001b[0m\u001b[0m\n\u001b[0m",
      "\u001b[0;32m~/miniconda3/lib/python3.6/site-packages/jpype/_core.py\u001b[0m in \u001b[0;36mstartJVM\u001b[0;34m(*args, **kwargs)\u001b[0m\n\u001b[1;32m    160\u001b[0m      \"\"\"\n\u001b[1;32m    161\u001b[0m     \u001b[0;32mif\u001b[0m \u001b[0m_jpype\u001b[0m\u001b[0;34m.\u001b[0m\u001b[0misStarted\u001b[0m\u001b[0;34m(\u001b[0m\u001b[0;34m)\u001b[0m\u001b[0;34m:\u001b[0m\u001b[0;34m\u001b[0m\u001b[0;34m\u001b[0m\u001b[0m\n\u001b[0;32m--> 162\u001b[0;31m         \u001b[0;32mraise\u001b[0m \u001b[0mOSError\u001b[0m\u001b[0;34m(\u001b[0m\u001b[0;34m'JVM is already started'\u001b[0m\u001b[0;34m)\u001b[0m\u001b[0;34m\u001b[0m\u001b[0;34m\u001b[0m\u001b[0m\n\u001b[0m\u001b[1;32m    163\u001b[0m     \u001b[0;32mglobal\u001b[0m \u001b[0m_JVM_started\u001b[0m\u001b[0;34m\u001b[0m\u001b[0;34m\u001b[0m\u001b[0m\n\u001b[1;32m    164\u001b[0m     \u001b[0;32mif\u001b[0m \u001b[0m_JVM_started\u001b[0m\u001b[0;34m:\u001b[0m\u001b[0;34m\u001b[0m\u001b[0;34m\u001b[0m\u001b[0m\n",
      "\u001b[0;31mOSError\u001b[0m: JVM is already started"
     ]
    }
   ],
   "source": [
    "# Import module\n",
    "# https://blog.notmyidea.org/using-jpype-to-bridge-python-and-java.html\n",
    "\n",
    "import jpype\n",
    "\n",
    "# Enable Java imports\n",
    "import jpype.imports\n",
    "\n",
    "# Pull in types\n",
    "from jpype.types import *\n",
    "\n",
    "# Launch the JVM\n",
    "jpype.startJVM(jpype.getDefaultJVMPath(),\"-ea\", \"-Djava.class.path=/home/ssilvetti/git/MoonLight/output/moonlight.jar\")"
   ]
  },
  {
   "cell_type": "code",
   "execution_count": 16,
   "metadata": {},
   "outputs": [],
   "source": [
    "#jpype.addClassPath(\"/home/ssilvetti/git/MoonLight/output/*\")\n",
    "#jpype.addClassPath('/home/ssilvetti/git/MoonLight/output/moonlight.jar')"
   ]
  },
  {
   "cell_type": "code",
   "execution_count": 10,
   "metadata": {},
   "outputs": [
    {
     "name": "stdout",
     "output_type": "stream",
     "text": [
      "/home/ssilvetti/git/MoonLight/output/moonlight.jar\n"
     ]
    }
   ],
   "source": [
    "from java.lang import System\n",
    "print(System.getProperty(\"java.class.path\"))"
   ]
  },
  {
   "cell_type": "code",
   "execution_count": 22,
   "metadata": {},
   "outputs": [],
   "source": [
    "import org.pkg.MyClass"
   ]
  },
  {
   "cell_type": "code",
   "execution_count": 26,
   "metadata": {},
   "outputs": [],
   "source": [
    "import java.lang.sss"
   ]
  },
  {
   "cell_type": "code",
   "execution_count": 28,
   "metadata": {},
   "outputs": [],
   "source": [
    "myStr = JString(\"foo\")"
   ]
  },
  {
   "cell_type": "code",
   "execution_count": 6,
   "metadata": {},
   "outputs": [
    {
     "ename": "SyntaxError",
     "evalue": "invalid syntax (<ipython-input-6-c3ca5efcb776>, line 1)",
     "output_type": "error",
     "traceback": [
      "\u001b[0;36m  File \u001b[0;32m\"<ipython-input-6-c3ca5efcb776>\"\u001b[0;36m, line \u001b[0;32m1\u001b[0m\n\u001b[0;31m    import jpype.JPackage(\"eu\").quanticol.moonlight.xtext\u001b[0m\n\u001b[0m                         ^\u001b[0m\n\u001b[0;31mSyntaxError\u001b[0m\u001b[0;31m:\u001b[0m invalid syntax\n"
     ]
    }
   ],
   "source": [
    "import jpype.JPackage(\"eu\").quanticol.moonlight.xtext\n",
    "script = \" \"\n",
    "ScriptLoader.compileScript(script);\n"
   ]
  },
  {
   "cell_type": "code",
   "execution_count": 17,
   "metadata": {},
   "outputs": [],
   "source": []
  },
  {
   "cell_type": "code",
   "execution_count": 24,
   "metadata": {},
   "outputs": [
    {
     "data": {
      "text/plain": [
       "<<java class 'java.lang.Object[][]'> at 0x7fdea1852cc0>"
      ]
     },
     "execution_count": 24,
     "metadata": {},
     "output_type": "execute_result"
    }
   ],
   "source": [
    "script = \"\"\"monitor BooleanMonitorScript {\n",
    "signal { real x; real y;}\n",
    "domain boolean;\n",
    "formula globally [0, 0.2]  #[ x > y ]#;\n",
    "}\n",
    "monitor QuantitativeMonitorScript{\n",
    "signal { real x; real y;}\n",
    "domain minmax;\n",
    "formula globally [0, 0.2] #[ x - y ]#;\n",
    "}\"\"\"\n",
    "a = jpype.JPackage(\"eu\").quanticol.moonlight.xtext.ScriptLoader()\n",
    "b = a.compileScript(script)\n",
    "c = b.selectTemporalComponent(\"QuantitativeMonitorScript\")\n",
    "time = JArray(JDouble)([1,2])\n",
    "space = JArray(JDouble,2)([[1,2],[1,2]])\n",
    "aa = c.monitorToDoubleArray(time,space,None)\n",
    "#s = a.getClassName(JString(\"a\"))\n",
    "aa"
   ]
  },
  {
   "cell_type": "code",
   "execution_count": 27,
   "metadata": {},
   "outputs": [
    {
     "data": {
      "text/plain": [
       "1.0"
      ]
     },
     "execution_count": 27,
     "metadata": {},
     "output_type": "execute_result"
    }
   ],
   "source": [
    "aa[0][0]\n",
    "\n"
   ]
  },
  {
   "cell_type": "code",
   "execution_count": 28,
   "metadata": {},
   "outputs": [
    {
     "ename": "TypeError",
     "evalue": "No matching overloads found for eu.quanticol.moonlight.TemporalScriptComponent.monitorToDoubleArray(int,int,NoneType), options are:\n\tpublic java.lang.Object[][] eu.quanticol.moonlight.TemporalScriptComponent.monitorToDoubleArray(double[],double[][],java.lang.String[])\n\n\tat findOverload(native/common/jp_method.cpp:242)\n\tat findOverload(native/common/jp_method.cpp:245)\n\tat invoke(native/common/jp_method.cpp:253)\n\tat __call__(native/python/pyjp_method.cpp:167)\n",
     "output_type": "error",
     "traceback": [
      "\u001b[0;31m---------------------------------------------------------------------------\u001b[0m",
      "\u001b[0;31mTypeError\u001b[0m                                 Traceback (most recent call last)",
      "\u001b[0;32m<ipython-input-28-0b1bc5dcf345>\u001b[0m in \u001b[0;36m<module>\u001b[0;34m\u001b[0m\n\u001b[0;32m----> 1\u001b[0;31m \u001b[0mc\u001b[0m\u001b[0;34m.\u001b[0m\u001b[0mmonitorToDoubleArray\u001b[0m\u001b[0;34m(\u001b[0m\u001b[0;36m0\u001b[0m\u001b[0;34m,\u001b[0m\u001b[0;36m1\u001b[0m\u001b[0;34m,\u001b[0m\u001b[0;32mNone\u001b[0m\u001b[0;34m)\u001b[0m\u001b[0;34m\u001b[0m\u001b[0;34m\u001b[0m\u001b[0m\n\u001b[0m",
      "\u001b[0;31mTypeError\u001b[0m: No matching overloads found for eu.quanticol.moonlight.TemporalScriptComponent.monitorToDoubleArray(int,int,NoneType), options are:\n\tpublic java.lang.Object[][] eu.quanticol.moonlight.TemporalScriptComponent.monitorToDoubleArray(double[],double[][],java.lang.String[])\n\n\tat findOverload(native/common/jp_method.cpp:242)\n\tat findOverload(native/common/jp_method.cpp:245)\n\tat invoke(native/common/jp_method.cpp:253)\n\tat __call__(native/python/pyjp_method.cpp:167)\n"
     ]
    }
   ],
   "source": [
    "c.monitorToDoubleArray([1,2],,None)"
   ]
  },
  {
   "cell_type": "code",
   "execution_count": 36,
   "metadata": {},
   "outputs": [
    {
     "data": {
      "text/plain": [
       "<<java class 'double[][]'> at 0x7f2ea22b8dd8>"
      ]
     },
     "execution_count": 36,
     "metadata": {},
     "output_type": "execute_result"
    }
   ],
   "source": [
    "space"
   ]
  },
  {
   "cell_type": "code",
   "execution_count": null,
   "metadata": {},
   "outputs": [],
   "source": [
    "space[0][0]"
   ]
  },
  {
   "cell_type": "code",
   "execution_count": null,
   "metadata": {},
   "outputs": [],
   "source": []
  }
 ],
 "metadata": {
  "kernelspec": {
   "display_name": "Python 3",
   "language": "python",
   "name": "python3"
  },
  "language_info": {
   "codemirror_mode": {
    "name": "ipython",
    "version": 3
   },
   "file_extension": ".py",
   "mimetype": "text/x-python",
   "name": "python",
   "nbconvert_exporter": "python",
   "pygments_lexer": "ipython3",
   "version": "3.6.9"
  }
 },
 "nbformat": 4,
 "nbformat_minor": 4
}
