{
 "cells": [
  {
   "cell_type": "code",
   "execution_count": 1,
   "metadata": {},
   "outputs": [
    {
     "name": "stderr",
     "output_type": "stream",
     "text": [
      "/Users/lauranenzi/opt/anaconda3/lib/python3.7/site-packages/jpype/_core.py:217: UserWarning: \n",
      "-------------------------------------------------------------------------------\n",
      "Deprecated: convertStrings was not specified when starting the JVM. The default\n",
      "behavior in JPype will be False starting in JPype 0.8. The recommended setting\n",
      "for new code is convertStrings=False.  The legacy value of True was assumed for\n",
      "this session. If you are a user of an application that reported this warning,\n",
      "please file a ticket with the developer.\n",
      "-------------------------------------------------------------------------------\n",
      "\n",
      "  \"\"\")\n"
     ]
    }
   ],
   "source": [
    "# Import module\n",
    "# https://blog.notmyidea.org/using-jpype-to-bridge-python-and-java.html\n",
    "\n",
    "import jpype\n",
    "\n",
    "# Enable Java imports\n",
    "import jpype.imports\n",
    "\n",
    "# Pull in types\n",
    "from jpype.types import *\n",
    "\n",
    "# Launch the JVM\n",
    "jpype.startJVM(jpype.getDefaultJVMPath(),\"-ea\", \"-Djava.class.path=jar/moonlight.jar\")"
   ]
  },
  {
   "cell_type": "code",
   "execution_count": 2,
   "metadata": {},
   "outputs": [
    {
     "name": "stdout",
     "output_type": "stream",
     "text": [
      "jar/moonlight.jar\n"
     ]
    }
   ],
   "source": [
    "from java.lang import System\n",
    "print(System.getProperty(\"java.class.path\"))"
   ]
  },
  {
   "cell_type": "code",
   "execution_count": 9,
   "metadata": {},
   "outputs": [
    {
     "data": {
      "text/plain": [
       "<<java class 'java.lang.Object[][]'> at 0x7f88dc011b00>"
      ]
     },
     "execution_count": 9,
     "metadata": {},
     "output_type": "execute_result"
    }
   ],
   "source": [
    "script = \"\"\"monitor BooleanMonitorScript {\n",
    "signal { real x; real y;}\n",
    "domain boolean;\n",
    "formula globally [0, 0.2]  #[ x > y ]#;\n",
    "}\n",
    "monitor QuantitativeMonitorScript{\n",
    "signal { real x; real y;}\n",
    "domain minmax;\n",
    "formula globally [0, 0.2] #[ x - y ]#;\n",
    "}\"\"\"\n",
    "a = jpype.JPackage(\"eu\").quanticol.moonlight.xtext.ScriptLoader()\n",
    "b = a.compileScript(script)\n",
    "c = b.selectTemporalComponent(\"QuantitativeMonitorScript\")\n",
    "time = JArray(JDouble)([1,2])\n",
    "space = JArray(JDouble,2)([[1,2],[1,2]])\n",
    "aa = c.monitorToDoubleArray(time,space,None)\n",
    "#s = a.getClassName(JString(\"a\"))\n",
    "aa"
   ]
  },
  {
   "cell_type": "code",
   "execution_count": 17,
   "metadata": {},
   "outputs": [],
   "source": [
    "import jpype\n",
    "\n",
    "class Moonlight:\n",
    "    \n",
    "    def __init__(self, jar_location=\"jar/moonlight.jar\"):\n",
    "        self.jar_location = jar_location\n",
    "        \n",
    "    def startJVM(self):\n",
    "        jpype.startJVM(jpype.getDefaultJVMPath(),\"-ea\", \"-Djava.class.path={}\".format(self.jar_location))\n",
    "        \n",
    "    def setScript(self, script):\n",
    "        script_loader = jpype.JPackage(\"eu\").quanticol.moonlight.xtext.ScriptLoader()\n",
    "        self.compiled_script = script_loader.compileScript(script)\n",
    "    \n",
    "    def get_monitor(self, monitor_name):\n",
    "        return  self.compiled_script.selectTemporalComponent(monitor_name)\n",
    "\n",
    "class Monitor:\n",
    "    \n",
    "     def __init__(self,moonlight_monitor):\n",
    "            self.monitor = moonlight_monitor\n",
    "     \n",
    "     def monitor(self, time, space, parameters=None):\n",
    "            return self.monitor.monitorToDoubleArray(time,space,parameters)\n",
    "        \n",
    "    \n",
    "    "
   ]
  },
  {
   "cell_type": "code",
   "execution_count": 23,
   "metadata": {},
   "outputs": [],
   "source": [
    "script = \"\"\"monitor BooleanMonitorScript {\n",
    "signal { real x; real y;}\n",
    "domain boolean;\n",
    "formula globally [0, 0.2]  #[ x > y ]#;\n",
    "}\n",
    "monitor QuantitativeMonitorScript{\n",
    "signal { real x; real y;}\n",
    "domain minmax;\n",
    "formula globally [0, 0.2] #[ x - y ]#;\n",
    "}\"\"\"\n",
    "\n",
    "moonlight = Moonlight()\n",
    "#moonlight.startJVM()\n",
    "moonlight.setScript(script)\n",
    "monitor = moonlight.get_monitor(\"QuantitativeMonitorScript\")\n",
    "\n",
    "time = JArray(JDouble)([1,2])\n",
    "space = JArray(JDouble,2)([[1,2],[1,2]])\n",
    "result = monitor.monitorToDoubleArray(time,space,None)\n",
    "#monitor.monitor(time,space)"
   ]
  }
 ],
 "metadata": {
  "kernelspec": {
   "display_name": "Python 3",
   "language": "python",
   "name": "python3"
  },
  "language_info": {
   "codemirror_mode": {
    "name": "ipython",
    "version": 3
   },
   "file_extension": ".py",
   "mimetype": "text/x-python",
   "name": "python",
   "nbconvert_exporter": "python",
   "pygments_lexer": "ipython3",
   "version": "3.7.4"
  }
 },
 "nbformat": 4,
 "nbformat_minor": 4
}
