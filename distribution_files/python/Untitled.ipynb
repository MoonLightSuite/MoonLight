{
 "cells": [
  {
   "cell_type": "code",
   "execution_count": 1,
   "metadata": {},
   "outputs": [
    {
     "name": "stderr",
     "output_type": "stream",
     "text": [
      "/home/ssilvetti/miniconda3/lib/python3.6/site-packages/jpype/_core.py:218: UserWarning: \n",
      "-------------------------------------------------------------------------------\n",
      "Deprecated: convertStrings was not specified when starting the JVM. The default\n",
      "behavior in JPype will be False starting in JPype 0.8. The recommended setting\n",
      "for new code is convertStrings=False.  The legacy value of True was assumed for\n",
      "this session. If you are a user of an application that reported this warning,\n",
      "please file a ticket with the developer.\n",
      "-------------------------------------------------------------------------------\n",
      "\n",
      "  \"\"\")\n"
     ]
    }
   ],
   "source": [
    "# Import module\n",
    "# https://blog.notmyidea.org/using-jpype-to-bridge-python-and-java.html\n",
    "\n",
    "import jpype\n",
    "\n",
    "# Enable Java imports\n",
    "import jpype.imports\n",
    "\n",
    "# Pull in types\n",
    "from jpype.types import *\n",
    "\n",
    "# Launch the JVM\n",
    "jpype.startJVM(jpype.getDefaultJVMPath(),\"-ea\", \"-Djava.class.path=jar/moonlight.jar\")"
   ]
  },
  {
   "cell_type": "code",
   "execution_count": null,
   "metadata": {},
   "outputs": [],
   "source": [
    "from java.lang import System\n",
    "print(System.getProperty(\"java.class.path\"))"
   ]
  },
  {
   "cell_type": "code",
   "execution_count": 2,
   "metadata": {},
   "outputs": [
    {
     "data": {
      "text/plain": [
       "<<java class 'java.lang.Object[][]'> at 0x7f4e9aef3e10>"
      ]
     },
     "execution_count": 2,
     "metadata": {},
     "output_type": "execute_result"
    }
   ],
   "source": [
    "script = \"\"\"monitor BooleanMonitorScript {\n",
    "signal { real x; real y;}\n",
    "domain boolean;\n",
    "formula globally [0, 0.2]  #[ x > y ]#;\n",
    "}\n",
    "monitor QuantitativeMonitorScript{\n",
    "signal { real x; real y;}\n",
    "domain minmax;\n",
    "formula globally [0, 0.2] #[ x - y ]#;\n",
    "}\"\"\"\n",
    "a = jpype.JPackage(\"eu\").quanticol.moonlight.xtext.ScriptLoader()\n",
    "b = a.compileScript(script)\n",
    "c = b.selectTemporalComponent(\"QuantitativeMonitorScript\")\n",
    "time = JArray(JDouble)([1,2])\n",
    "space = JArray(JDouble,2)([[1,2],[1,2]])\n",
    "aa = c.monitorToDoubleArray(time,space,None)\n",
    "#s = a.getClassName(JString(\"a\"))\n",
    "aa"
   ]
  },
  {
   "cell_type": "code",
   "execution_count": 6,
   "metadata": {},
   "outputs": [
    {
     "data": {
      "text/plain": [
       "-1.0"
      ]
     },
     "execution_count": 6,
     "metadata": {},
     "output_type": "execute_result"
    }
   ],
   "source": [
    "import jpype\n",
    "\n",
    "class Moonlight:\n",
    "    def __init__(self, jar_location):\n",
    "        self.jar_location = jar_location\n",
    "    def startJVM(self):\n",
    "        jpype.startJVM(jpype.getDefaultJVMPath(),\"-ea\", \"-Djava.class.path={}\".format(self.jar_location))\n",
    "    def setScript(self, script):\n",
    "        \n",
    "        \n",
    "        \n",
    "\n"
   ]
  },
  {
   "cell_type": "code",
   "execution_count": 28,
   "metadata": {},
   "outputs": [
    {
     "ename": "TypeError",
     "evalue": "No matching overloads found for eu.quanticol.moonlight.TemporalScriptComponent.monitorToDoubleArray(int,int,NoneType), options are:\n\tpublic java.lang.Object[][] eu.quanticol.moonlight.TemporalScriptComponent.monitorToDoubleArray(double[],double[][],java.lang.String[])\n\n\tat findOverload(native/common/jp_method.cpp:242)\n\tat findOverload(native/common/jp_method.cpp:245)\n\tat invoke(native/common/jp_method.cpp:253)\n\tat __call__(native/python/pyjp_method.cpp:167)\n",
     "output_type": "error",
     "traceback": [
      "\u001b[0;31m---------------------------------------------------------------------------\u001b[0m",
      "\u001b[0;31mTypeError\u001b[0m                                 Traceback (most recent call last)",
      "\u001b[0;32m<ipython-input-28-0b1bc5dcf345>\u001b[0m in \u001b[0;36m<module>\u001b[0;34m\u001b[0m\n\u001b[0;32m----> 1\u001b[0;31m \u001b[0mc\u001b[0m\u001b[0;34m.\u001b[0m\u001b[0mmonitorToDoubleArray\u001b[0m\u001b[0;34m(\u001b[0m\u001b[0;36m0\u001b[0m\u001b[0;34m,\u001b[0m\u001b[0;36m1\u001b[0m\u001b[0;34m,\u001b[0m\u001b[0;32mNone\u001b[0m\u001b[0;34m)\u001b[0m\u001b[0;34m\u001b[0m\u001b[0;34m\u001b[0m\u001b[0m\n\u001b[0m",
      "\u001b[0;31mTypeError\u001b[0m: No matching overloads found for eu.quanticol.moonlight.TemporalScriptComponent.monitorToDoubleArray(int,int,NoneType), options are:\n\tpublic java.lang.Object[][] eu.quanticol.moonlight.TemporalScriptComponent.monitorToDoubleArray(double[],double[][],java.lang.String[])\n\n\tat findOverload(native/common/jp_method.cpp:242)\n\tat findOverload(native/common/jp_method.cpp:245)\n\tat invoke(native/common/jp_method.cpp:253)\n\tat __call__(native/python/pyjp_method.cpp:167)\n"
     ]
    }
   ],
   "source": [
    "c.monitorToDoubleArray([1,2],,None)"
   ]
  },
  {
   "cell_type": "code",
   "execution_count": 36,
   "metadata": {},
   "outputs": [
    {
     "data": {
      "text/plain": [
       "<<java class 'double[][]'> at 0x7f2ea22b8dd8>"
      ]
     },
     "execution_count": 36,
     "metadata": {},
     "output_type": "execute_result"
    }
   ],
   "source": [
    "space"
   ]
  },
  {
   "cell_type": "code",
   "execution_count": null,
   "metadata": {},
   "outputs": [],
   "source": [
    "space[0][0]"
   ]
  },
  {
   "cell_type": "code",
   "execution_count": null,
   "metadata": {},
   "outputs": [],
   "source": []
  }
 ],
 "metadata": {
  "kernelspec": {
   "display_name": "Python 3",
   "language": "python",
   "name": "python3"
  },
  "language_info": {
   "codemirror_mode": {
    "name": "ipython",
    "version": 3
   },
   "file_extension": ".py",
   "mimetype": "text/x-python",
   "name": "python",
   "nbconvert_exporter": "python",
   "pygments_lexer": "ipython3",
   "version": "3.6.9"
  }
 },
 "nbformat": 4,
 "nbformat_minor": 4
}
