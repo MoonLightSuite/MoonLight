{
 "cells": [
  {
   "cell_type": "code",
   "execution_count": 1,
   "metadata": {},
   "outputs": [
    {
     "name": "stderr",
     "output_type": "stream",
     "text": [
      "/home/ssilvetti/miniconda3/lib/python3.6/site-packages/jpype/_core.py:218: UserWarning: \n",
      "-------------------------------------------------------------------------------\n",
      "Deprecated: convertStrings was not specified when starting the JVM. The default\n",
      "behavior in JPype will be False starting in JPype 0.8. The recommended setting\n",
      "for new code is convertStrings=False.  The legacy value of True was assumed for\n",
      "this session. If you are a user of an application that reported this warning,\n",
      "please file a ticket with the developer.\n",
      "-------------------------------------------------------------------------------\n",
      "\n",
      "  \"\"\")\n"
     ]
    }
   ],
   "source": [
    "# Import module\n",
    "# https://blog.notmyidea.org/using-jpype-to-bridge-python-and-java.html\n",
    "\n",
    "import jpype\n",
    "\n",
    "# Enable Java imports\n",
    "import jpype.imports\n",
    "\n",
    "# Pull in types\n",
    "from jpype.types import *\n",
    "\n",
    "# Launch the JVM\n",
    "jpype.startJVM(jpype.getDefaultJVMPath(),\"-ea\", \"-Djava.class.path=/home/ssilvetti/git/MoonLight/output/moonlight.jar\")"
   ]
  },
  {
   "cell_type": "code",
   "execution_count": 16,
   "metadata": {},
   "outputs": [],
   "source": [
    "jpype.addClassPath(\"/home/ssilvetti/git/MoonLight/output/*\")\n",
    "jpype.addClassPath('/home/ssilvetti/git/MoonLight/output/moonlight.jar')"
   ]
  },
  {
   "cell_type": "code",
   "execution_count": 4,
   "metadata": {},
   "outputs": [
    {
     "name": "stdout",
     "output_type": "stream",
     "text": [
      "/home/ssilvetti/git/MoonLight/output/moonlight.jar\n"
     ]
    }
   ],
   "source": [
    "from java.lang import System\n",
    "print(System.getProperty(\"java.class.path\"))"
   ]
  },
  {
   "cell_type": "code",
   "execution_count": 22,
   "metadata": {},
   "outputs": [],
   "source": [
    "import org.pkg.MyClass"
   ]
  },
  {
   "cell_type": "code",
   "execution_count": 26,
   "metadata": {},
   "outputs": [],
   "source": [
    "import java.lang.sss"
   ]
  },
  {
   "cell_type": "code",
   "execution_count": 28,
   "metadata": {},
   "outputs": [],
   "source": [
    "myStr = JString(\"foo\")"
   ]
  },
  {
   "cell_type": "code",
   "execution_count": 6,
   "metadata": {},
   "outputs": [
    {
     "ename": "SyntaxError",
     "evalue": "invalid syntax (<ipython-input-6-c3ca5efcb776>, line 1)",
     "output_type": "error",
     "traceback": [
      "\u001b[0;36m  File \u001b[0;32m\"<ipython-input-6-c3ca5efcb776>\"\u001b[0;36m, line \u001b[0;32m1\u001b[0m\n\u001b[0;31m    import jpype.JPackage(\"eu\").quanticol.moonlight.xtext\u001b[0m\n\u001b[0m                         ^\u001b[0m\n\u001b[0;31mSyntaxError\u001b[0m\u001b[0;31m:\u001b[0m invalid syntax\n"
     ]
    }
   ],
   "source": [
    "import jpype.JPackage(\"eu\").quanticol.moonlight.xtext\n",
    "script = \" \"\n",
    "ScriptLoader.compileScript(script);\n"
   ]
  },
  {
   "cell_type": "code",
   "execution_count": 11,
   "metadata": {},
   "outputs": [],
   "source": [
    "a = jpype.JPackage(\"eu\").quanticol.moonlight.xtext.ScriptLoader"
   ]
  },
  {
   "cell_type": "code",
   "execution_count": 17,
   "metadata": {},
   "outputs": [
    {
     "ename": "TypeError",
     "evalue": "No matching overloads found for eu.quanticol.moonlight.xtext.ScriptLoader.compileScript(java.lang.String), options are:\n\tpublic eu.quanticol.moonlight.MoonLightScript eu.quanticol.moonlight.xtext.ScriptLoader.compileScript(java.lang.String)\n\tpublic eu.quanticol.moonlight.MoonLightScript eu.quanticol.moonlight.xtext.ScriptLoader.compileScript(java.lang.String,java.lang.String,java.lang.String)\n\n\tat findOverload(native/common/jp_method.cpp:242)\n\tat findOverload(native/common/jp_method.cpp:245)\n\tat invoke(native/common/jp_method.cpp:253)\n\tat __call__(native/python/pyjp_method.cpp:167)\n",
     "output_type": "error",
     "traceback": [
      "\u001b[0;31m---------------------------------------------------------------------------\u001b[0m",
      "\u001b[0;31mTypeError\u001b[0m                                 Traceback (most recent call last)",
      "\u001b[0;32m<ipython-input-17-abe9ac9867da>\u001b[0m in \u001b[0;36m<module>\u001b[0;34m\u001b[0m\n\u001b[1;32m      9\u001b[0m \u001b[0mformula\u001b[0m \u001b[0mglobally\u001b[0m \u001b[0;34m[\u001b[0m\u001b[0;36m0\u001b[0m\u001b[0;34m,\u001b[0m \u001b[0;36m0.2\u001b[0m\u001b[0;34m]\u001b[0m \u001b[0;31m#[ x - y ]#;\u001b[0m\u001b[0;34m\u001b[0m\u001b[0;34m\u001b[0m\u001b[0m\n\u001b[1;32m     10\u001b[0m }\"\"\"\n\u001b[0;32m---> 11\u001b[0;31m \u001b[0ma\u001b[0m\u001b[0;34m.\u001b[0m\u001b[0mcompileScript\u001b[0m\u001b[0;34m(\u001b[0m\u001b[0mJString\u001b[0m\u001b[0;34m(\u001b[0m\u001b[0mscript\u001b[0m\u001b[0;34m)\u001b[0m\u001b[0;34m)\u001b[0m\u001b[0;34m\u001b[0m\u001b[0;34m\u001b[0m\u001b[0m\n\u001b[0m",
      "\u001b[0;31mTypeError\u001b[0m: No matching overloads found for eu.quanticol.moonlight.xtext.ScriptLoader.compileScript(java.lang.String), options are:\n\tpublic eu.quanticol.moonlight.MoonLightScript eu.quanticol.moonlight.xtext.ScriptLoader.compileScript(java.lang.String)\n\tpublic eu.quanticol.moonlight.MoonLightScript eu.quanticol.moonlight.xtext.ScriptLoader.compileScript(java.lang.String,java.lang.String,java.lang.String)\n\n\tat findOverload(native/common/jp_method.cpp:242)\n\tat findOverload(native/common/jp_method.cpp:245)\n\tat invoke(native/common/jp_method.cpp:253)\n\tat __call__(native/python/pyjp_method.cpp:167)\n"
     ]
    }
   ],
   "source": [
    "script = \"\"\"monitor BooleanMonitorScript {\n",
    "signal { real x; real y;}\n",
    "domain boolean;\n",
    "formula globally [0, 0.2]  #[ x > y ]#;\n",
    "}\n",
    "monitor QuantitativeMonitorScript{\n",
    "signal { real x; real y;}\n",
    "domain minmax;\n",
    "formula globally [0, 0.2] #[ x - y ]#;\n",
    "}\"\"\"\n",
    "a.compileScript(JString(script))"
   ]
  },
  {
   "cell_type": "code",
   "execution_count": null,
   "metadata": {},
   "outputs": [],
   "source": []
  }
 ],
 "metadata": {
  "kernelspec": {
   "display_name": "Python 3",
   "language": "python",
   "name": "python3"
  },
  "language_info": {
   "codemirror_mode": {
    "name": "ipython",
    "version": 3
   },
   "file_extension": ".py",
   "mimetype": "text/x-python",
   "name": "python",
   "nbconvert_exporter": "python",
   "pygments_lexer": "ipython3",
   "version": "3.6.9"
  }
 },
 "nbformat": 4,
 "nbformat_minor": 4
}
